{
 "cells": [
  {
   "cell_type": "code",
   "execution_count": 1,
   "metadata": {},
   "outputs": [],
   "source": [
    "import numpy as np\n",
    "import pandas as pd\n",
    "import tensorflow as tf\n",
    "import matplotlib.pyplot as plt"
   ]
  },
  {
   "cell_type": "code",
   "execution_count": 2,
   "metadata": {},
   "outputs": [],
   "source": [
    "def _float_feature(value):\n",
    "    return tf.train.Feature(float_list = tf.train.FloatList(value = value))"
   ]
  },
  {
   "cell_type": "code",
   "execution_count": 3,
   "metadata": {},
   "outputs": [],
   "source": [
    "def convert_to_records_all(input_path = \"/home/cloud/MRT_Data/unziped/out/P\",\n",
    "                           output_path =  \"/home/cloud/data/MRI.tfrecordsk\",\n",
    "                           n = 1000):\n",
    "    with tf.python_io.TFRecordWriter(output_path) as writer: \n",
    "        for i in range(1,21):\n",
    "            print(\"Starting to write image \" + str(i) + \" out!\")\n",
    "            \n",
    "            # Create the path of the current input nd-array\n",
    "            path_X = input_path + str(i) + \"_X.npy\"\n",
    "            path_y = input_path + str(i) + \"_Y.npy\"\n",
    "\n",
    "            # Load X,Y\n",
    "            X = np.load(path_X)\n",
    "            Y = np.load(path_y)\n",
    "            \n",
    "            # Select only n images per input!\n",
    "            select = np.random.choice(np.arange(0, 4055), size = n)\n",
    "            X = X[select, :, :]\n",
    "            Y = Y[select, :, :]\n",
    "        \n",
    "            # Transform them to tf.records\n",
    "\n",
    "            for i in range(X.shape[0]):\n",
    "                example = tf.train.Example(features = tf.train.Features(\n",
    "                                feature = \n",
    "                                {\n",
    "                                    'image':_float_feature(X[i].tostring()),\n",
    "                                    'label':_float_feature(Y[i].tostring())\n",
    "                                }\n",
    "                                                                    )\n",
    "                                      )\n",
    "                # given the 'tupel', serialize this example\n",
    "                writer.write(example.SerializeToString())\n",
    "                if i%500==0:\n",
    "                    print('writing {}th image'.format(i))\n",
    "            print(\"Image \" + str(i) + \" was written out!\")"
   ]
  },
  {
   "cell_type": "code",
   "execution_count": null,
   "metadata": {},
   "outputs": [
    {
     "name": "stdout",
     "output_type": "stream",
     "text": [
      "Starting to write image 1 out!\n",
      "writing 0th image\n",
      "writing 500th image\n",
      "Image 999 was written out!\n",
      "Starting to write image 2 out!\n",
      "writing 0th image\n",
      "writing 500th image\n",
      "Image 999 was written out!\n",
      "Starting to write image 3 out!\n",
      "writing 0th image\n"
     ]
    }
   ],
   "source": [
    "convert_to_records_all()"
   ]
  }
 ],
 "metadata": {
  "kernelspec": {
   "display_name": "Python 3",
   "language": "python",
   "name": "python3"
  },
  "language_info": {
   "codemirror_mode": {
    "name": "ipython",
    "version": 3
   },
   "file_extension": ".py",
   "mimetype": "text/x-python",
   "name": "python",
   "nbconvert_exporter": "python",
   "pygments_lexer": "ipython3",
   "version": "3.6.6"
  }
 },
 "nbformat": 4,
 "nbformat_minor": 2
}

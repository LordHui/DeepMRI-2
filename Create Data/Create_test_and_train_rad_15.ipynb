{
 "cells": [
  {
   "cell_type": "code",
   "execution_count": 11,
   "metadata": {},
   "outputs": [],
   "source": [
    "import numpy as np\n",
    "import matplotlib.pyplot as plt\n",
    "import gc"
   ]
  },
  {
   "cell_type": "markdown",
   "metadata": {},
   "source": [
    "Load the whole image"
   ]
  },
  {
   "cell_type": "code",
   "execution_count": 2,
   "metadata": {},
   "outputs": [],
   "source": [
    "Y_name = '/home/cloud/Create_Data/' + \"out/\" + \"Y.npy\"\n",
    "Y = np.load(Y_name) "
   ]
  },
  {
   "cell_type": "markdown",
   "metadata": {},
   "source": [
    "Determine how many unique images are in their. Here, we have 3 noisy images per image"
   ]
  },
  {
   "cell_type": "code",
   "execution_count": 3,
   "metadata": {},
   "outputs": [],
   "source": [
    "rep_image = 3"
   ]
  },
  {
   "cell_type": "code",
   "execution_count": 5,
   "metadata": {},
   "outputs": [],
   "source": [
    "num_pix = int(Y.shape[0] / rep_image)"
   ]
  },
  {
   "cell_type": "markdown",
   "metadata": {},
   "source": [
    "I will shuffle the elements so that I can select the first 80 % to train then test with having random images."
   ]
  },
  {
   "cell_type": "code",
   "execution_count": 6,
   "metadata": {},
   "outputs": [],
   "source": [
    "all_pics = np.arange(0, num_pix)\n",
    "np.random.seed(1993)\n",
    "np.random.shuffle(all_pics)"
   ]
  },
  {
   "cell_type": "markdown",
   "metadata": {},
   "source": [
    "Configure how many images are test train to create"
   ]
  },
  {
   "cell_type": "code",
   "execution_count": 7,
   "metadata": {},
   "outputs": [],
   "source": [
    "train_frac = 0.6\n",
    "test_frac = 0.2\n",
    "validate_frac = 1 - train_frac - test_frac"
   ]
  },
  {
   "cell_type": "markdown",
   "metadata": {},
   "source": [
    "Now I will seperate the shuffled images into test, train, ect."
   ]
  },
  {
   "cell_type": "code",
   "execution_count": 8,
   "metadata": {},
   "outputs": [],
   "source": [
    "pics_train = all_pics[0:int(all_pics.shape[0] * train_frac)]\n",
    "pics_test = all_pics[int(all_pics.shape[0] * train_frac):int(all_pics.shape[0] * (train_frac + test_frac))]\n",
    "pics_validate = all_pics[int(all_pics.shape[0] * (train_frac + test_frac)):]"
   ]
  },
  {
   "cell_type": "markdown",
   "metadata": {},
   "source": [
    "So far we a talking about the real underlying images. But in the numpy array they are repeated. This means that if we want to select the true image 2 we really have to select image number 3, 4, 5 from both arrays. In the following I will do exaclyt that."
   ]
  },
  {
   "cell_type": "code",
   "execution_count": 9,
   "metadata": {},
   "outputs": [],
   "source": [
    "pics_train = np.repeat(pics_train, rep_image) + np.tile(np.arange(0, rep_image), pics_train.shape[0])\n",
    "pics_test = np.repeat(pics_test, rep_image) + np.tile(np.arange(0, rep_image), pics_test.shape[0])\n",
    "pics_validate = np.repeat(pics_validate, rep_image) + np.tile(np.arange(0, rep_image), pics_validate.shape[0])"
   ]
  },
  {
   "cell_type": "markdown",
   "metadata": {},
   "source": [
    "Now select train, test and validate and save them."
   ]
  },
  {
   "cell_type": "code",
   "execution_count": 12,
   "metadata": {},
   "outputs": [
    {
     "data": {
      "text/plain": [
       "18"
      ]
     },
     "execution_count": 12,
     "metadata": {},
     "output_type": "execute_result"
    }
   ],
   "source": [
    "Y_train = Y[pics_train, :, :,:]\n",
    "Y_name = '/home/cloud/Create_Data/' + \"out/\" + \"Y_train.npy\"\n",
    "np.save(Y_name, Y_train) \n",
    "del(Y_train)\n",
    "gc.collect()"
   ]
  },
  {
   "cell_type": "code",
   "execution_count": 13,
   "metadata": {},
   "outputs": [
    {
     "data": {
      "text/plain": [
       "0"
      ]
     },
     "execution_count": 13,
     "metadata": {},
     "output_type": "execute_result"
    }
   ],
   "source": [
    "Y_test = Y[pics_test, :, :,:]\n",
    "Y_name = '/home/cloud/Create_Data/' + \"out/\" + \"Y_test.npy\"\n",
    "np.save(Y_name, Y_test) \n",
    "del(Y_test)\n",
    "gc.collect()"
   ]
  },
  {
   "cell_type": "code",
   "execution_count": 14,
   "metadata": {},
   "outputs": [
    {
     "data": {
      "text/plain": [
       "0"
      ]
     },
     "execution_count": 14,
     "metadata": {},
     "output_type": "execute_result"
    }
   ],
   "source": [
    "Y_validate = Y[pics_validate, :, :,:]\n",
    "Y_name = '/home/cloud/Create_Data/' + \"out/\" + \"Y_validate.npy\"\n",
    "np.save(Y_name, Y_validate) \n",
    "del(Y_validate)\n",
    "gc.collect()"
   ]
  },
  {
   "cell_type": "code",
   "execution_count": 15,
   "metadata": {},
   "outputs": [
    {
     "data": {
      "text/plain": [
       "0"
      ]
     },
     "execution_count": 15,
     "metadata": {},
     "output_type": "execute_result"
    }
   ],
   "source": [
    "del Y\n",
    "gc.collect()"
   ]
  },
  {
   "cell_type": "code",
   "execution_count": 17,
   "metadata": {},
   "outputs": [],
   "source": [
    "X_name = '/home/cloud/Create_Data/' + \"out/\" + \"X.npy\"\n",
    "X = np.load(X_name) "
   ]
  },
  {
   "cell_type": "code",
   "execution_count": 18,
   "metadata": {},
   "outputs": [
    {
     "data": {
      "text/plain": [
       "3"
      ]
     },
     "execution_count": 18,
     "metadata": {},
     "output_type": "execute_result"
    }
   ],
   "source": [
    "X_train = X[pics_train, :, :,:]\n",
    "X_name = '/home/cloud/Create_Data/' + \"out/\" + \"X_train.npy\"\n",
    "np.save(X_name, X_train) \n",
    "del(X_train)\n",
    "gc.collect()"
   ]
  },
  {
   "cell_type": "code",
   "execution_count": 21,
   "metadata": {},
   "outputs": [
    {
     "data": {
      "text/plain": [
       "16"
      ]
     },
     "execution_count": 21,
     "metadata": {},
     "output_type": "execute_result"
    }
   ],
   "source": [
    "X_test = X[pics_test, :, :,:]\n",
    "X_name = '/home/cloud/Create_Data/' + \"out/\" + \"X_test.npy\"\n",
    "np.save(X_name, X_test) \n",
    "del(X_test)\n",
    "gc.collect()"
   ]
  },
  {
   "cell_type": "code",
   "execution_count": 22,
   "metadata": {},
   "outputs": [
    {
     "data": {
      "text/plain": [
       "0"
      ]
     },
     "execution_count": 22,
     "metadata": {},
     "output_type": "execute_result"
    }
   ],
   "source": [
    "X_validate = X[pics_validate, :, :,:]\n",
    "X_name = '/home/cloud/Create_Data/' + \"out/\" + \"X_validate.npy\"\n",
    "np.save(X_name, X_validate) \n",
    "del(X_validate)\n",
    "gc.collect()"
   ]
  }
 ],
 "metadata": {
  "kernelspec": {
   "display_name": "Python 3",
   "language": "python",
   "name": "python3"
  },
  "language_info": {
   "codemirror_mode": {
    "name": "ipython",
    "version": 3
   },
   "file_extension": ".py",
   "mimetype": "text/x-python",
   "name": "python",
   "nbconvert_exporter": "python",
   "pygments_lexer": "ipython3",
   "version": "3.6.7"
  }
 },
 "nbformat": 4,
 "nbformat_minor": 2
}

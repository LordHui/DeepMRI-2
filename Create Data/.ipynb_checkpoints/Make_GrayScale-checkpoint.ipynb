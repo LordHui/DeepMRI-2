{
 "cells": [
  {
   "cell_type": "code",
   "execution_count": 4,
   "metadata": {},
   "outputs": [],
   "source": [
    "import numpy as np\n",
    "import pandas as pd\n",
    "import matplotlib.pyplot as plt"
   ]
  },
  {
   "cell_type": "markdown",
   "metadata": {},
   "source": [
    "In this script I will load the dataset, make them from RGB to grayscale (remove the last dimension) and store them by overwritting the old files."
   ]
  },
  {
   "cell_type": "markdown",
   "metadata": {},
   "source": [
    "First create a list containing all files to loop around."
   ]
  },
  {
   "cell_type": "code",
   "execution_count": 11,
   "metadata": {},
   "outputs": [],
   "source": [
    "name_list = []\n",
    "for i in range(1,21):\n",
    "    name_list.append(\"P\" + str(i) + \"_X.npy\")\n",
    "    name_list.append(\"P\" + str(i) + \"_Y.npy\")"
   ]
  },
  {
   "cell_type": "markdown",
   "metadata": {},
   "source": [
    "Now iterate over the list containing all names pics, load them, select only the first layer of the RGB colors (all have the same values anyway), normalize the pic, make it float32 and write it out again!"
   ]
  },
  {
   "cell_type": "code",
   "execution_count": 14,
   "metadata": {},
   "outputs": [],
   "source": [
    "for cur_name in name_list:\n",
    "    Cur_pic = np.load(cur_name)\n",
    "    Cur_pic = Cur_pic[:,:,:,0]\n",
    "    Cur_pic.reshape([4055, 256, 256, 1])\n",
    "    Cur_pic = Cur_pic / 255\n",
    "    Cur_pic = Cur_pic.astype('float32')\n",
    "    np.save(cur_name, Cur_pic)"
   ]
  }
 ],
 "metadata": {
  "kernelspec": {
   "display_name": "Python 3",
   "language": "python",
   "name": "python3"
  },
  "language_info": {
   "codemirror_mode": {
    "name": "ipython",
    "version": 3
   },
   "file_extension": ".py",
   "mimetype": "text/x-python",
   "name": "python",
   "nbconvert_exporter": "python",
   "pygments_lexer": "ipython3",
   "version": "3.6.6"
  }
 },
 "nbformat": 4,
 "nbformat_minor": 2
}

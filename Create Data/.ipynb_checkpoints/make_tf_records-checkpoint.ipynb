{
 "cells": [
  {
   "cell_type": "code",
   "execution_count": 2,
   "metadata": {},
   "outputs": [],
   "source": [
    "import numpy as np\n",
    "import pandas as pd\n",
    "import tensorflow as tf\n",
    "import matplotlib.pyplot as plt"
   ]
  },
  {
   "cell_type": "code",
   "execution_count": 13,
   "metadata": {},
   "outputs": [],
   "source": [
    "def _float_feature(value):\n",
    "    return tf.train.Feature(float_list = tf.train.float_list(value = value))"
   ]
  },
  {
   "cell_type": "code",
   "execution_count": 12,
   "metadata": {},
   "outputs": [],
   "source": [
    "def convert_to_records(x,y,path):\n",
    "    print('writing to {}'.format(path))\n",
    "    # given the entire 60000x28x28 array execute for each picture (i.e. x.shape[0] == 60000) \n",
    "    # and make an tf. train example out of the each image with its label just tupel-like: \n",
    "    # (converted (to bytelist) np.array, converted (to int64) label)\n",
    "    with tf.python_io.TFRecordWriter(path) as writer: \n",
    "        #for i in range(x.shape[0]):\n",
    "        for i in range(0,2,1):\n",
    "            example = tf.train.Example(features = tf.train.Features(\n",
    "                            feature = \n",
    "                            {\n",
    "                                'image_raw':_float_feature(x[i].tostring()), # carefull tostring on np.array!\n",
    "                                'label':_float_feature(y[i].tostring()) # perhaps for image-to-image change this!\n",
    "                            }\n",
    "                                                                    )\n",
    "                                      )\n",
    "            # given the 'tupel', serialize this example\n",
    "            writer.write(example.SerializeToString())\n",
    "            if i%500==0:\n",
    "                print('writing {}th image'.format(i))"
   ]
  },
  {
   "cell_type": "code",
   "execution_count": null,
   "metadata": {},
   "outputs": [],
   "source": [
    "X_1 = np.load()"
   ]
  },
  {
   "cell_type": "code",
   "execution_count": 18,
   "metadata": {},
   "outputs": [],
   "source": [
    "def make_arrays_records(input_path = \"/home/cloud/MRT_Data/unziped/out/P\", output_path =  \"/home/cloud/data/MRI.tfrecords\"):\n",
    "    for i in range(1,21):\n",
    "        # Create the path of the current input nd-array\n",
    "        path_X = \"/home/cloud/MRT_Data/unziped/out/P\" + str(i) + \"_X.npy\"\n",
    "        path_y = \"/home/cloud/MRT_Data/unziped/out/P\" + str(i) + \"_Y.npy\"\n",
    "\n",
    "        # Load X,Y\n",
    "        X = np.load(path_X)\n",
    "        Y = np.load(path_y)\n",
    "        \n",
    "        # Transform them to tf.records\n",
    "        convert_to_records(X, Y, output_path)"
   ]
  },
  {
   "cell_type": "code",
   "execution_count": 19,
   "metadata": {},
   "outputs": [
    {
     "name": "stdout",
     "output_type": "stream",
     "text": [
      "writing to /home/cloud/data/MRI.tfrecords\n"
     ]
    },
    {
     "ename": "NameError",
     "evalue": "name '_bytes_feature' is not defined",
     "output_type": "error",
     "traceback": [
      "\u001b[0;31m---------------------------------------------------------------------------\u001b[0m",
      "\u001b[0;31mNameError\u001b[0m                                 Traceback (most recent call last)",
      "\u001b[0;32m<ipython-input-19-3cff04649e3d>\u001b[0m in \u001b[0;36m<module>\u001b[0;34m\u001b[0m\n\u001b[0;32m----> 1\u001b[0;31m \u001b[0mmake_arrays_records\u001b[0m\u001b[0;34m(\u001b[0m\u001b[0;34m)\u001b[0m\u001b[0;34m\u001b[0m\u001b[0m\n\u001b[0m",
      "\u001b[0;32m<ipython-input-18-0a1cefc0130b>\u001b[0m in \u001b[0;36mmake_arrays_records\u001b[0;34m(input_path, output_path)\u001b[0m\n\u001b[1;32m     10\u001b[0m \u001b[0;34m\u001b[0m\u001b[0m\n\u001b[1;32m     11\u001b[0m         \u001b[0;31m# Transform them to tf.records\u001b[0m\u001b[0;34m\u001b[0m\u001b[0;34m\u001b[0m\u001b[0m\n\u001b[0;32m---> 12\u001b[0;31m         \u001b[0mconvert_to_records\u001b[0m\u001b[0;34m(\u001b[0m\u001b[0mX\u001b[0m\u001b[0;34m,\u001b[0m \u001b[0mY\u001b[0m\u001b[0;34m,\u001b[0m \u001b[0moutput_path\u001b[0m\u001b[0;34m)\u001b[0m\u001b[0;34m\u001b[0m\u001b[0m\n\u001b[0m",
      "\u001b[0;32m<ipython-input-12-a00eac9f30b1>\u001b[0m in \u001b[0;36mconvert_to_records\u001b[0;34m(x, y, path)\u001b[0m\n\u001b[1;32m     10\u001b[0m                             \u001b[0mfeature\u001b[0m \u001b[0;34m=\u001b[0m\u001b[0;34m\u001b[0m\u001b[0m\n\u001b[1;32m     11\u001b[0m                             {\n\u001b[0;32m---> 12\u001b[0;31m                                 \u001b[0;34m'image_raw'\u001b[0m\u001b[0;34m:\u001b[0m\u001b[0m_bytes_feature\u001b[0m\u001b[0;34m(\u001b[0m\u001b[0mx\u001b[0m\u001b[0;34m[\u001b[0m\u001b[0mi\u001b[0m\u001b[0;34m]\u001b[0m\u001b[0;34m.\u001b[0m\u001b[0mtostring\u001b[0m\u001b[0;34m(\u001b[0m\u001b[0;34m)\u001b[0m\u001b[0;34m)\u001b[0m\u001b[0;34m,\u001b[0m \u001b[0;31m# carefull tostring on np.array!\u001b[0m\u001b[0;34m\u001b[0m\u001b[0m\n\u001b[0m\u001b[1;32m     13\u001b[0m                                 \u001b[0;34m'label'\u001b[0m\u001b[0;34m:\u001b[0m\u001b[0m_int64_feature\u001b[0m\u001b[0;34m(\u001b[0m\u001b[0my\u001b[0m\u001b[0;34m[\u001b[0m\u001b[0mi\u001b[0m\u001b[0;34m]\u001b[0m\u001b[0;34m.\u001b[0m\u001b[0mtostring\u001b[0m\u001b[0;34m(\u001b[0m\u001b[0;34m)\u001b[0m\u001b[0;34m)\u001b[0m \u001b[0;31m# perhaps for image-to-image change this!\u001b[0m\u001b[0;34m\u001b[0m\u001b[0m\n\u001b[1;32m     14\u001b[0m                             }\n",
      "\u001b[0;31mNameError\u001b[0m: name '_bytes_feature' is not defined"
     ]
    }
   ],
   "source": [
    "make_arrays_records()"
   ]
  }
 ],
 "metadata": {
  "kernelspec": {
   "display_name": "Python 3",
   "language": "python",
   "name": "python3"
  },
  "language_info": {
   "codemirror_mode": {
    "name": "ipython",
    "version": 3
   },
   "file_extension": ".py",
   "mimetype": "text/x-python",
   "name": "python",
   "nbconvert_exporter": "python",
   "pygments_lexer": "ipython3",
   "version": "3.6.6"
  }
 },
 "nbformat": 4,
 "nbformat_minor": 2
}

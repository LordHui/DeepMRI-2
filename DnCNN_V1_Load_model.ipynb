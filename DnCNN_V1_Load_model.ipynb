{
 "cells": [
  {
   "cell_type": "markdown",
   "metadata": {},
   "source": [
    "# DnCNN_V1"
   ]
  },
  {
   "cell_type": "markdown",
   "metadata": {},
   "source": [
    "Implementing the \"Beyond Gaussian Denoising\" Neural Network."
   ]
  },
  {
   "cell_type": "code",
   "execution_count": 2,
   "metadata": {},
   "outputs": [],
   "source": [
    "import numpy as np\n",
    "import pandas as pd\n",
    "import matplotlib.pyplot as plt\n",
    "import tensorflow as tf\n",
    "import gc\n",
    "import datetime"
   ]
  },
  {
   "cell_type": "markdown",
   "metadata": {},
   "source": [
    "## Data Preprocessing"
   ]
  },
  {
   "cell_type": "markdown",
   "metadata": {},
   "source": [
    "I will start by loading two of the images in. Then I will select from the originals each only one. Aftwards, I will select the 500 images in good and bad quality from the two image and create the classification label for it."
   ]
  },
  {
   "cell_type": "code",
   "execution_count": 3,
   "metadata": {},
   "outputs": [],
   "source": [
    "select = np.random.choice(np.arange(0, 4055), size = 100)"
   ]
  },
  {
   "cell_type": "code",
   "execution_count": 4,
   "metadata": {},
   "outputs": [],
   "source": [
    "X_1 = np.load('/home/cloud/MRT_Data/unziped/out/P2_X.npy')"
   ]
  },
  {
   "cell_type": "markdown",
   "metadata": {},
   "source": [
    "X_2 = np.load('/home/cloud/MRT_Data/unziped/out/P11_X.npy')"
   ]
  },
  {
   "cell_type": "markdown",
   "metadata": {},
   "source": [
    "X_3 = np.load('/home/cloud/MRT_Data/unziped/out/P6_X.npy')"
   ]
  },
  {
   "cell_type": "markdown",
   "metadata": {},
   "source": [
    "X = np.concatenate(seq = (X_1, X_2), axis=0)"
   ]
  },
  {
   "cell_type": "markdown",
   "metadata": {},
   "source": [
    "X.shape"
   ]
  },
  {
   "cell_type": "markdown",
   "metadata": {},
   "source": [
    "del X_1, X_2"
   ]
  },
  {
   "cell_type": "code",
   "execution_count": 5,
   "metadata": {},
   "outputs": [],
   "source": [
    "X = X_1"
   ]
  },
  {
   "cell_type": "code",
   "execution_count": 6,
   "metadata": {},
   "outputs": [],
   "source": [
    "X = X.reshape([4055, 256, 256, 1])"
   ]
  },
  {
   "cell_type": "code",
   "execution_count": 7,
   "metadata": {},
   "outputs": [],
   "source": [
    "X = X[select, :, :]"
   ]
  },
  {
   "cell_type": "code",
   "execution_count": 8,
   "metadata": {},
   "outputs": [],
   "source": [
    "del X_1"
   ]
  },
  {
   "cell_type": "code",
   "execution_count": 9,
   "metadata": {
    "scrolled": true
   },
   "outputs": [
    {
     "data": {
      "text/plain": [
       "14"
      ]
     },
     "execution_count": 9,
     "metadata": {},
     "output_type": "execute_result"
    }
   ],
   "source": [
    "gc.collect()"
   ]
  },
  {
   "cell_type": "markdown",
   "metadata": {},
   "source": [
    " Normalize data"
   ]
  },
  {
   "cell_type": "code",
   "execution_count": 10,
   "metadata": {},
   "outputs": [],
   "source": [
    "Y_1 = np.load('/home/cloud/MRT_Data/unziped/out/P2_Y.npy')"
   ]
  },
  {
   "cell_type": "markdown",
   "metadata": {},
   "source": [
    "Y_2 = np.load('/home/cloud/MRT_Data/unziped/out/P11_Y.npy')"
   ]
  },
  {
   "cell_type": "markdown",
   "metadata": {},
   "source": [
    "Y_3 = np.load('/home/cloud/MRT_Data/unziped/out/P6_Y.npy')"
   ]
  },
  {
   "cell_type": "markdown",
   "metadata": {},
   "source": [
    "Y = np.concatenate(seq = (Y_1, Y_2), axis=0)"
   ]
  },
  {
   "cell_type": "markdown",
   "metadata": {},
   "source": [
    "Y.shape"
   ]
  },
  {
   "cell_type": "markdown",
   "metadata": {},
   "source": [
    "del Y_1, Y_2"
   ]
  },
  {
   "cell_type": "code",
   "execution_count": 11,
   "metadata": {},
   "outputs": [],
   "source": [
    "Y = Y_1"
   ]
  },
  {
   "cell_type": "code",
   "execution_count": 12,
   "metadata": {},
   "outputs": [],
   "source": [
    "Y = Y.reshape([4055, 256, 256, 1])"
   ]
  },
  {
   "cell_type": "code",
   "execution_count": 13,
   "metadata": {},
   "outputs": [
    {
     "data": {
      "text/plain": [
       "(4055, 256, 256, 1)"
      ]
     },
     "execution_count": 13,
     "metadata": {},
     "output_type": "execute_result"
    }
   ],
   "source": [
    "Y.shape"
   ]
  },
  {
   "cell_type": "code",
   "execution_count": 14,
   "metadata": {},
   "outputs": [],
   "source": [
    "Y = Y[select, :, :]"
   ]
  },
  {
   "cell_type": "markdown",
   "metadata": {},
   "source": [
    "clean up the mess"
   ]
  },
  {
   "cell_type": "code",
   "execution_count": 15,
   "metadata": {
    "scrolled": false
   },
   "outputs": [
    {
     "data": {
      "text/plain": [
       "3"
      ]
     },
     "execution_count": 15,
     "metadata": {},
     "output_type": "execute_result"
    }
   ],
   "source": [
    "gc.collect()"
   ]
  },
  {
   "cell_type": "code",
   "execution_count": 16,
   "metadata": {},
   "outputs": [
    {
     "data": {
      "text/plain": [
       "(100, 256, 256, 1)"
      ]
     },
     "execution_count": 16,
     "metadata": {},
     "output_type": "execute_result"
    }
   ],
   "source": [
    "Y.shape"
   ]
  },
  {
   "cell_type": "markdown",
   "metadata": {},
   "source": [
    "# Create train and test and validation set"
   ]
  },
  {
   "cell_type": "code",
   "execution_count": 17,
   "metadata": {},
   "outputs": [],
   "source": [
    "train_frac = 0.9"
   ]
  },
  {
   "cell_type": "code",
   "execution_count": 18,
   "metadata": {},
   "outputs": [],
   "source": [
    "train_index = int(train_frac * Y.shape[0])"
   ]
  },
  {
   "cell_type": "code",
   "execution_count": 19,
   "metadata": {},
   "outputs": [],
   "source": [
    "X_train = X[0:train_index,:,:,:]\n",
    "X_eval = X[train_index:X.shape[0],:,:,:]"
   ]
  },
  {
   "cell_type": "code",
   "execution_count": 20,
   "metadata": {},
   "outputs": [],
   "source": [
    "Y_train = Y[0:train_index,:,:]\n",
    "Y_eval = Y[train_index:X.shape[0],:,:,:]"
   ]
  },
  {
   "cell_type": "code",
   "execution_count": 111,
   "metadata": {},
   "outputs": [],
   "source": [
    "def conv_layer(tensor_in, name_layer, is_training):\n",
    "    x = tf.layers.conv2d(\n",
    "        inputs = tensor_in,\n",
    "        filters = 64,\n",
    "        kernel_size = [3, 3],\n",
    "        padding = \"same\",\n",
    "        activation= None,\n",
    "        name = name_layer)\n",
    "    if(is_training):\n",
    "        x = tf.layers.batch_normalization(x, name = name_layer + \"_bn\",\n",
    "                                             center=True, \n",
    "                                             scale=True, \n",
    "                                             training=is_training)\n",
    "    \n",
    "    return tf.nn.relu(x, name = name_layer + \"_relu\")"
   ]
  },
  {
   "cell_type": "markdown",
   "metadata": {},
   "source": [
    "# Create and train CNN"
   ]
  },
  {
   "cell_type": "code",
   "execution_count": 112,
   "metadata": {},
   "outputs": [],
   "source": [
    "def cnn_model_fn(features, labels, mode):\n",
    "    \n",
    "    ## Hyper paramters ##\n",
    "    eps_start = 0.04 #learning rate in the beginning\n",
    "    eps_end = eps_start / 100 #final learning rate\n",
    "    tau = 10000 # number of iterations afterwards is the learning rate constant\n",
    "    #####################\n",
    "    \n",
    "    # Input Layer\n",
    "    input_layer = features['x']\n",
    "    \n",
    "    # Convolutional layer #1     \n",
    "    conv1 = tf.layers.conv2d(\n",
    "        inputs = input_layer,\n",
    "        filters = 64,\n",
    "        kernel_size = 3,\n",
    "        padding = \"same\",\n",
    "        activation= tf.nn.relu,\n",
    "        name = \"Conv_1\")\n",
    "    is_training_mode = (mode == tf.estimator.ModeKeys.TRAIN)\n",
    "    \n",
    "     # 18 of the middle layers with Convolution, batch normalization and afterwards ReLu\n",
    "    conv2 = conv_layer(conv1, \"conv2\", is_training = is_training_mode)\n",
    "    conv3 = conv_layer(conv2, \"conv3\", is_training = is_training_mode)\n",
    "    conv4 = conv_layer(conv3, \"conv4\", is_training = is_training_mode)\n",
    "    conv5 = conv_layer(conv4, \"conv5\", is_training = is_training_mode)\n",
    "    conv6 = conv_layer(conv5, \"conv6\", is_training = is_training_mode)\n",
    "    conv7 = conv_layer(conv6, \"conv7\", is_training = is_training_mode)\n",
    "    conv8 = conv_layer(conv7, \"conv8\", is_training = is_training_mode)\n",
    "    conv9 = conv_layer(conv8, \"conv9\", is_training = is_training_mode)\n",
    "    conv10 = conv_layer(conv9, \"conv10\", is_training = is_training_mode)\n",
    "    conv11 = conv_layer(conv10, \"conv11\", is_training = is_training_mode)\n",
    "    conv12 = conv_layer(conv11, \"conv12\", is_training = is_training_mode)\n",
    "    conv13 = conv_layer(conv12, \"conv13\", is_training = is_training_mode)\n",
    "    conv14 = conv_layer(conv13, \"conv14\", is_training = is_training_mode)\n",
    "    conv15 = conv_layer(conv14, \"conv15\", is_training = is_training_mode)\n",
    "    conv16 = conv_layer(conv15, \"conv16\", is_training = is_training_mode)\n",
    "    conv17 = conv_layer(conv16, \"conv17\", is_training = is_training_mode)\n",
    "    conv18 = conv_layer(conv17, \"conv18\", is_training = is_training_mode)\n",
    "    conv19 = conv_layer(conv18, \"conv19\", is_training = is_training_mode)\n",
    "\n",
    "    # final \n",
    "    final_layer = tf.layers.conv2d(\n",
    "        inputs = conv19,\n",
    "        filters = 1,\n",
    "        kernel_size = [1, 1],\n",
    "        padding = \"same\",\n",
    "        activation = None,\n",
    "        name = \"final_layer\") + input_layer\n",
    "    \n",
    "    \n",
    "    if mode == tf.estimator.ModeKeys.PREDICT:\n",
    "        return tf.estimator.EstimatorSpec(mode = mode, predictions=final_layer)\n",
    "    \n",
    "    # Calculate Loss (for both Train and EVAL modes)\n",
    "    # See that the residual learning is implemented here.\n",
    "    loss = tf.losses.mean_squared_error(labels = labels , predictions = final_layer)\n",
    "    tf.summary.scalar(\"Value_Loss_Function\", loss)\n",
    "        \n",
    "    # Configure the Training OP (for TRAIN mode)\n",
    "    if mode == tf.estimator.ModeKeys.TRAIN:\n",
    "        # calculate current learning rate:\n",
    "        alpha = tf.train.get_global_step() / tau\n",
    "        cur_learning_rate = tf.maximum(tf.constant(0.0, dtype ='float64'),(1-alpha)) * eps_start + tf.minimum(tf.constant(1.0, dtype ='float64') , alpha) * eps_end\n",
    "        tf.summary.scalar(\"Learning_rate\", cur_learning_rate)\n",
    "        optimizer = tf.train.AdamOptimizer(learning_rate = cur_learning_rate)\n",
    "        train_op = optimizer.minimize(loss = loss, global_step=tf.train.get_global_step())\n",
    "        return tf.estimator.EstimatorSpec(mode=mode, loss=loss, train_op=train_op)\n",
    "        \n",
    "        \n",
    "    # Output all learnable variables for tensorboard\n",
    "    for var in tf.trainable_variables():\n",
    "        name = var.name\n",
    "        name = name.replace(':', '_')\n",
    "        tf.summary.histogram(name, var)\n",
    "    merged_summary = tf.summary.merge_all()\n",
    "    \n",
    "    # Add evaluation metrics\n",
    "    eval_metric_ops = {\n",
    "        \"accuracy\": tf.metrics.mean_squared_error(\n",
    "            labels=labels, predictions=final_layer)}\n",
    "    return tf.estimator.EstimatorSpec(\n",
    "          mode=mode, loss=loss, eval_metric_ops=eval_metric_ops)    \n"
   ]
  },
  {
   "cell_type": "markdown",
   "metadata": {},
   "source": [
    "Load train and test data"
   ]
  },
  {
   "cell_type": "code",
   "execution_count": 24,
   "metadata": {},
   "outputs": [],
   "source": [
    "train_data = X_train\n",
    "train_labels = Y_train\n",
    "eval_data = X_eval\n",
    "eval_labels = Y_eval"
   ]
  },
  {
   "cell_type": "markdown",
   "metadata": {},
   "source": [
    "Create the estimator"
   ]
  },
  {
   "cell_type": "code",
   "execution_count": 25,
   "metadata": {},
   "outputs": [],
   "source": [
    "runconf = tf.estimator.RunConfig(save_summary_steps=5, log_step_count_steps = 1)"
   ]
  },
  {
   "cell_type": "code",
   "execution_count": 26,
   "metadata": {},
   "outputs": [],
   "source": [
    "save_dir = \"/tmp/tmp_nets/\" + str(datetime.datetime.now())[0:19].replace(\"-\", \"_\").replace(\" \", \"_\").replace(\":\", \"_\").replace(\".\", \"_\")"
   ]
  },
  {
   "cell_type": "code",
   "execution_count": 113,
   "metadata": {},
   "outputs": [
    {
     "name": "stdout",
     "output_type": "stream",
     "text": [
      "INFO:tensorflow:Using config: {'_model_dir': '/scratch2/ttoebro/models/2018_12_05_08_05_06', '_tf_random_seed': None, '_save_summary_steps': 5, '_save_checkpoints_steps': None, '_save_checkpoints_secs': 600, '_session_config': allow_soft_placement: true\n",
      "graph_options {\n",
      "  rewrite_options {\n",
      "    meta_optimizer_iterations: ONE\n",
      "  }\n",
      "}\n",
      ", '_keep_checkpoint_max': 5, '_keep_checkpoint_every_n_hours': 10000, '_log_step_count_steps': 1, '_train_distribute': None, '_device_fn': None, '_protocol': None, '_eval_distribute': None, '_experimental_distribute': None, '_service': None, '_cluster_spec': <tensorflow.python.training.server_lib.ClusterSpec object at 0x7fdf6c30c6d8>, '_task_type': 'worker', '_task_id': 0, '_global_id_in_cluster': 0, '_master': '', '_evaluation_master': '', '_is_chief': True, '_num_ps_replicas': 0, '_num_worker_replicas': 1}\n"
     ]
    }
   ],
   "source": [
    "ImpNet = tf.estimator.Estimator(config=runconf,\n",
    "    model_fn=cnn_model_fn, model_dir='/scratch2/ttoebro/models/2018_12_05_08_05_06'\n",
    "    )"
   ]
  },
  {
   "cell_type": "markdown",
   "metadata": {},
   "source": [
    "# Set up logging for predictions\n",
    "tensors_to_log = {\"probabilities\": \"softmax_tensor\"}\n",
    "logging_hook = tf.train.LoggingTensorHook(\n",
    "    tensors=tensors_to_log, every_n_iter=10)"
   ]
  },
  {
   "cell_type": "markdown",
   "metadata": {},
   "source": [
    "logging_hook = tf.train.SummarySaverHook(\n",
    "     save_steps= 1,\n",
    "    output_dir=\"/home/cloud/Training/summary_hook\", \n",
    "    scaffold=tf.train.Scaffold(summary_op=tf.summary.merge_all())) "
   ]
  },
  {
   "cell_type": "markdown",
   "metadata": {},
   "source": [
    "Train the model"
   ]
  },
  {
   "cell_type": "code",
   "execution_count": 28,
   "metadata": {},
   "outputs": [],
   "source": [
    "train_input_fn = tf.estimator.inputs.numpy_input_fn(\n",
    "    x={\"x\": X_train},\n",
    "    y=Y_train,\n",
    "    batch_size=32,\n",
    "    num_epochs=None,\n",
    "    shuffle=True)"
   ]
  },
  {
   "cell_type": "code",
   "execution_count": null,
   "metadata": {},
   "outputs": [
    {
     "name": "stdout",
     "output_type": "stream",
     "text": [
      "INFO:tensorflow:Calling model_fn.\n",
      "INFO:tensorflow:Done calling model_fn.\n",
      "INFO:tensorflow:Create CheckpointSaverHook.\n",
      "INFO:tensorflow:Graph was finalized.\n",
      "INFO:tensorflow:Running local_init_op.\n",
      "INFO:tensorflow:Done running local_init_op.\n",
      "INFO:tensorflow:Saving checkpoints for 0 into /tmp/tmp_nets/2018_12_03_15_36_27/model.ckpt.\n",
      "INFO:tensorflow:loss = 0.64208615, step = 1\n",
      "INFO:tensorflow:global_step/sec: 0.0125436\n",
      "INFO:tensorflow:loss = 0.057684973, step = 2 (79.736 sec)\n"
     ]
    }
   ],
   "source": [
    "ImpNet.train(\n",
    "    input_fn=train_input_fn,\n",
    "    steps=3)"
   ]
  },
  {
   "cell_type": "code",
   "execution_count": null,
   "metadata": {},
   "outputs": [],
   "source": [
    "tf.__version"
   ]
  },
  {
   "cell_type": "markdown",
   "metadata": {},
   "source": [
    "## Evaluate the model"
   ]
  },
  {
   "cell_type": "markdown",
   "metadata": {},
   "source": [
    "Make predictions"
   ]
  },
  {
   "cell_type": "markdown",
   "metadata": {},
   "source": [
    "This is what we train for (our label)"
   ]
  },
  {
   "cell_type": "code",
   "execution_count": null,
   "metadata": {},
   "outputs": [],
   "source": [
    "plt.imshow(Y_eval[1,:,:,0], cmap='gray' )"
   ]
  },
  {
   "cell_type": "markdown",
   "metadata": {},
   "source": [
    "This is the input of the NN (The noisy image)"
   ]
  },
  {
   "cell_type": "code",
   "execution_count": null,
   "metadata": {},
   "outputs": [],
   "source": [
    "plt.imshow(X_eval[1,:,:,0], cmap='gray' )"
   ]
  },
  {
   "cell_type": "markdown",
   "metadata": {},
   "source": [
    "This is the true image, can be calculated as the difference of X to the label we train on"
   ]
  },
  {
   "cell_type": "code",
   "execution_count": null,
   "metadata": {},
   "outputs": [],
   "source": [
    "plt.imshow(X_eval[1,:,:,0] - Y_eval[1,:,:,0] , cmap='gray' )"
   ]
  },
  {
   "cell_type": "code",
   "execution_count": 139,
   "metadata": {},
   "outputs": [
    {
     "data": {
      "text/plain": [
       "array([[0.03529412, 0.02745098, 0.03137255, ..., 0.02745098, 0.02745098,\n",
       "        0.03529412],\n",
       "       [0.03529412, 0.03137255, 0.03529412, ..., 0.02352941, 0.02352941,\n",
       "        0.03921569],\n",
       "       [0.02745098, 0.03529412, 0.03529412, ..., 0.02352941, 0.02352941,\n",
       "        0.03529412],\n",
       "       ...,\n",
       "       [0.04705882, 0.04705882, 0.03137255, ..., 0.03529412, 0.02745098,\n",
       "        0.04313726],\n",
       "       [0.04313726, 0.05490196, 0.03921569, ..., 0.03137255, 0.03529412,\n",
       "        0.05490196],\n",
       "       [0.03921569, 0.04705882, 0.03921569, ..., 0.03137255, 0.03921569,\n",
       "        0.0627451 ]], dtype=float32)"
      ]
     },
     "execution_count": 139,
     "metadata": {},
     "output_type": "execute_result"
    }
   ],
   "source": [
    "X_train[0,:,:,0]"
   ]
  },
  {
   "cell_type": "code",
   "execution_count": 140,
   "metadata": {},
   "outputs": [
    {
     "data": {
      "text/plain": [
       "array([[0.04705882, 0.03529412, 0.01960784, ..., 0.04313726, 0.03529412,\n",
       "        0.04313726],\n",
       "       [0.04705882, 0.03529412, 0.02745098, ..., 0.04313726, 0.02352941,\n",
       "        0.04705882],\n",
       "       [0.04705882, 0.03529412, 0.03137255, ..., 0.03529412, 0.02352941,\n",
       "        0.05490196],\n",
       "       ...,\n",
       "       [0.03921569, 0.03137255, 0.03921569, ..., 0.03137255, 0.03921569,\n",
       "        0.05490196],\n",
       "       [0.03529412, 0.02745098, 0.03921569, ..., 0.03137255, 0.03529412,\n",
       "        0.05098039],\n",
       "       [0.03921569, 0.02745098, 0.03921569, ..., 0.02352941, 0.03137255,\n",
       "        0.04705882]], dtype=float32)"
      ]
     },
     "execution_count": 140,
     "metadata": {},
     "output_type": "execute_result"
    }
   ],
   "source": [
    "X_eval[0,:,:,0]"
   ]
  },
  {
   "cell_type": "markdown",
   "metadata": {},
   "source": [
    "This is an original image. What does our network predict?"
   ]
  },
  {
   "cell_type": "code",
   "execution_count": 114,
   "metadata": {
    "scrolled": true
   },
   "outputs": [
    {
     "name": "stdout",
     "output_type": "stream",
     "text": [
      "INFO:tensorflow:Calling model_fn.\n",
      "INFO:tensorflow:Done calling model_fn.\n",
      "INFO:tensorflow:Graph was finalized.\n",
      "INFO:tensorflow:Restoring parameters from /scratch2/ttoebro/models/2018_12_05_08_05_06/model.ckpt-20000\n",
      "INFO:tensorflow:Running local_init_op.\n",
      "INFO:tensorflow:Done running local_init_op.\n"
     ]
    }
   ],
   "source": [
    "# Evaluate the model and print results\n",
    "predict_input_fn = tf.estimator.inputs.numpy_input_fn(\n",
    "    x={\"x\": X_eval[:,:,:,:]},\n",
    "    y=X_eval[:,:,:,:],\n",
    "    num_epochs=1,\n",
    "    shuffle=False)\n",
    "predict_results = ImpNet.predict(input_fn=predict_input_fn)\n",
    "predict_results = list(predict_results)"
   ]
  },
  {
   "cell_type": "markdown",
   "metadata": {},
   "source": [
    "The first dictionary is the image shown above. Although I cannot see much in the picture the network is 99.8% sure that it is original!"
   ]
  },
  {
   "cell_type": "code",
   "execution_count": 95,
   "metadata": {},
   "outputs": [
    {
     "data": {
      "text/plain": [
       "(256, 256)"
      ]
     },
     "execution_count": 95,
     "metadata": {},
     "output_type": "execute_result"
    }
   ],
   "source": [
    "X_eval[1,:,:,0].shape"
   ]
  },
  {
   "cell_type": "code",
   "execution_count": 96,
   "metadata": {},
   "outputs": [
    {
     "data": {
      "text/plain": [
       "<matplotlib.image.AxesImage at 0x7fdf84873208>"
      ]
     },
     "execution_count": 96,
     "metadata": {},
     "output_type": "execute_result"
    },
    {
     "data": {
      "image/png": "[encoded data removed]",
      "text/plain": [
       "<Figure size 432x288 with 1 Axes>"
      ]
     },
     "metadata": {
      "needs_background": "light"
     },
     "output_type": "display_data"
    }
   ],
   "source": [
    "plt.imshow(Y_eval[8,:,:,0], cmap='gray')"
   ]
  },
  {
   "cell_type": "code",
   "execution_count": 100,
   "metadata": {},
   "outputs": [
    {
     "data": {
      "text/plain": [
       "array([[0.05098039, 0.05098039, 0.04705882, ..., 0.04705882, 0.04313726,\n",
       "        0.03921569],\n",
       "       [0.05490196, 0.04705882, 0.04313726, ..., 0.02745098, 0.02745098,\n",
       "        0.02352941],\n",
       "       [0.0627451 , 0.05490196, 0.05098039, ..., 0.03137255, 0.02745098,\n",
       "        0.02745098],\n",
       "       ...,\n",
       "       [0.03921569, 0.04705882, 0.05490196, ..., 0.03529412, 0.04705882,\n",
       "        0.04313726],\n",
       "       [0.04313726, 0.04313726, 0.03921569, ..., 0.03529412, 0.03921569,\n",
       "        0.04705882],\n",
       "       [0.06666667, 0.05490196, 0.03529412, ..., 0.05098039, 0.05098039,\n",
       "        0.0627451 ]], dtype=float32)"
      ]
     },
     "execution_count": 100,
     "metadata": {},
     "output_type": "execute_result"
    }
   ],
   "source": [
    "X_eval[8,:,:,0]"
   ]
  },
  {
   "cell_type": "code",
   "execution_count": 89,
   "metadata": {},
   "outputs": [
    {
     "data": {
      "text/plain": [
       "<matplotlib.image.AxesImage at 0x7fdf6c8e0be0>"
      ]
     },
     "execution_count": 89,
     "metadata": {},
     "output_type": "execute_result"
    },
    {
     "data": {
      "image/png": "[encoded data removed]",
      "text/plain": [
       "<Figure size 432x288 with 1 Axes>"
      ]
     },
     "metadata": {
      "needs_background": "light"
     },
     "output_type": "display_data"
    }
   ],
   "source": [
    "plt.imshow(X_eval[8,:,:,0], cmap='gray')"
   ]
  },
  {
   "cell_type": "code",
   "execution_count": 107,
   "metadata": {},
   "outputs": [
    {
     "data": {
      "text/plain": [
       "(256, 256, 1)"
      ]
     },
     "execution_count": 107,
     "metadata": {},
     "output_type": "execute_result"
    }
   ],
   "source": [
    "predict_results[1].shape"
   ]
  },
  {
   "cell_type": "code",
   "execution_count": 128,
   "metadata": {},
   "outputs": [
    {
     "data": {
      "text/plain": [
       "(256, 256, 1)"
      ]
     },
     "execution_count": 128,
     "metadata": {},
     "output_type": "execute_result"
    }
   ],
   "source": [
    "predict_results[2].shape"
   ]
  },
  {
   "cell_type": "code",
   "execution_count": 133,
   "metadata": {
    "scrolled": true
   },
   "outputs": [
    {
     "data": {
      "text/plain": [
       "<matplotlib.image.AxesImage at 0x7fdf6cb24518>"
      ]
     },
     "execution_count": 133,
     "metadata": {},
     "output_type": "execute_result"
    },
    {
     "data": {
      "image/png": "[encoded data removed]",
      "text/plain": [
       "<Figure size 432x288 with 1 Axes>"
      ]
     },
     "metadata": {
      "needs_background": "light"
     },
     "output_type": "display_data"
    }
   ],
   "source": [
    "plt.imshow((predict_results[3][:,:,0]), cmap='gray')"
   ]
  }
 ],
 "metadata": {
  "kernelspec": {
   "display_name": "Python 3",
   "language": "python",
   "name": "python3"
  },
  "language_info": {
   "codemirror_mode": {
    "name": "ipython",
    "version": 3
   },
   "file_extension": ".py",
   "mimetype": "text/x-python",
   "name": "python",
   "nbconvert_exporter": "python",
   "pygments_lexer": "ipython3",
   "version": "3.6.6"
  }
 },
 "nbformat": 4,
 "nbformat_minor": 2
}

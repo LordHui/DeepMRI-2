{
 "cells": [
  {
   "cell_type": "markdown",
   "metadata": {},
   "source": [
    "# AutoEncoder"
   ]
  },
  {
   "cell_type": "markdown",
   "metadata": {},
   "source": [
    "Building an Autoencoder roughly based on the U-Net."
   ]
  },
  {
   "cell_type": "code",
   "execution_count": 21,
   "metadata": {},
   "outputs": [],
   "source": [
    "import numpy as np\n",
    "import pandas as pd\n",
    "import matplotlib.pyplot as plt\n",
    "import tensorflow as tf\n",
    "import gc\n",
    "import datetime"
   ]
  },
  {
   "cell_type": "markdown",
   "metadata": {},
   "source": [
    "## Data Preprocessing"
   ]
  },
  {
   "cell_type": "markdown",
   "metadata": {},
   "source": [
    "I will start by loading two of the images in. Then I will select from the originals each only one. Aftwards, I will select the 500 images in good and bad quality from the two image and create the classification label for it."
   ]
  },
  {
   "cell_type": "code",
   "execution_count": 22,
   "metadata": {},
   "outputs": [],
   "source": [
    "select = np.random.choice(np.arange(0, 4055), size = 1000)"
   ]
  },
  {
   "cell_type": "code",
   "execution_count": 23,
   "metadata": {},
   "outputs": [],
   "source": [
    "X_1 = np.load('/home/cloud/MRT_Data/unziped/out/P2_X.npy')"
   ]
  },
  {
   "cell_type": "code",
   "execution_count": 24,
   "metadata": {},
   "outputs": [],
   "source": [
    "X = X_1"
   ]
  },
  {
   "cell_type": "code",
   "execution_count": 25,
   "metadata": {},
   "outputs": [],
   "source": [
    "X = X.reshape([4055, 256, 256, 1])"
   ]
  },
  {
   "cell_type": "code",
   "execution_count": 26,
   "metadata": {},
   "outputs": [],
   "source": [
    "X = X[select, :, :]"
   ]
  },
  {
   "cell_type": "code",
   "execution_count": 27,
   "metadata": {},
   "outputs": [],
   "source": [
    "del X_1"
   ]
  },
  {
   "cell_type": "code",
   "execution_count": 28,
   "metadata": {
    "scrolled": true
   },
   "outputs": [
    {
     "data": {
      "text/plain": [
       "3"
      ]
     },
     "execution_count": 28,
     "metadata": {},
     "output_type": "execute_result"
    }
   ],
   "source": [
    "gc.collect()"
   ]
  },
  {
   "cell_type": "markdown",
   "metadata": {},
   "source": [
    " Normalize data"
   ]
  },
  {
   "cell_type": "code",
   "execution_count": 29,
   "metadata": {},
   "outputs": [],
   "source": [
    "Y_1 = np.load('/home/cloud/MRT_Data/unziped/out/P2_Y.npy')"
   ]
  },
  {
   "cell_type": "code",
   "execution_count": 30,
   "metadata": {},
   "outputs": [],
   "source": [
    "Y = Y_1"
   ]
  },
  {
   "cell_type": "code",
   "execution_count": 31,
   "metadata": {},
   "outputs": [],
   "source": [
    "Y = Y.reshape([4055, 256, 256, 1])"
   ]
  },
  {
   "cell_type": "code",
   "execution_count": 32,
   "metadata": {},
   "outputs": [
    {
     "data": {
      "text/plain": [
       "(4055, 256, 256, 1)"
      ]
     },
     "execution_count": 32,
     "metadata": {},
     "output_type": "execute_result"
    }
   ],
   "source": [
    "Y.shape"
   ]
  },
  {
   "cell_type": "code",
   "execution_count": 33,
   "metadata": {},
   "outputs": [],
   "source": [
    "Y = Y[select, :, :]"
   ]
  },
  {
   "cell_type": "markdown",
   "metadata": {},
   "source": [
    "clean up the mess"
   ]
  },
  {
   "cell_type": "code",
   "execution_count": 34,
   "metadata": {
    "scrolled": false
   },
   "outputs": [
    {
     "data": {
      "text/plain": [
       "3"
      ]
     },
     "execution_count": 34,
     "metadata": {},
     "output_type": "execute_result"
    }
   ],
   "source": [
    "gc.collect()"
   ]
  },
  {
   "cell_type": "code",
   "execution_count": 35,
   "metadata": {},
   "outputs": [
    {
     "data": {
      "text/plain": [
       "(1000, 256, 256, 1)"
      ]
     },
     "execution_count": 35,
     "metadata": {},
     "output_type": "execute_result"
    }
   ],
   "source": [
    "Y.shape"
   ]
  },
  {
   "cell_type": "markdown",
   "metadata": {},
   "source": [
    "# Create train and test and validation set"
   ]
  },
  {
   "cell_type": "markdown",
   "metadata": {},
   "source": [
    "How much of the data should be used for training?"
   ]
  },
  {
   "cell_type": "code",
   "execution_count": 36,
   "metadata": {},
   "outputs": [],
   "source": [
    "train_frac = 0.9"
   ]
  },
  {
   "cell_type": "code",
   "execution_count": 37,
   "metadata": {},
   "outputs": [],
   "source": [
    "train_index = int(train_frac * Y.shape[0])"
   ]
  },
  {
   "cell_type": "code",
   "execution_count": 38,
   "metadata": {},
   "outputs": [],
   "source": [
    "X_train = X[0:train_index,:,:,:]\n",
    "X_eval = X[train_index:X.shape[0],:,:,:]"
   ]
  },
  {
   "cell_type": "code",
   "execution_count": 39,
   "metadata": {},
   "outputs": [],
   "source": [
    "Y_train = Y[0:train_index,:,:]\n",
    "Y_eval = Y[train_index:X.shape[0],:,:,:]"
   ]
  },
  {
   "cell_type": "code",
   "execution_count": 40,
   "metadata": {},
   "outputs": [],
   "source": [
    "def conv_2(tensor_in, name_layer, n_filter):\n",
    "    x = tf.layers.conv2d(\n",
    "        inputs = tensor_in,\n",
    "        filters = n_filter,\n",
    "        kernel_size = [3, 3],\n",
    "        padding = \"same\",\n",
    "        activation= tf.nn.relu,\n",
    "        name = name_layer + \"_conv_1\")\n",
    "    x = tf.layers.conv2d(\n",
    "        inputs = x,\n",
    "        filters = n_filter,\n",
    "        kernel_size = [3, 3],\n",
    "        padding = \"same\",\n",
    "        activation= tf.nn.relu,\n",
    "        name = name_layer + \"_conv_2\")\n",
    "    \n",
    "    return x"
   ]
  },
  {
   "cell_type": "code",
   "execution_count": 81,
   "metadata": {},
   "outputs": [],
   "source": [
    "from tensorflow.python.layers import utils"
   ]
  },
  {
   "cell_type": "code",
   "execution_count": 120,
   "metadata": {},
   "outputs": [
    {
     "data": {
      "text/plain": [
       "32"
      ]
     },
     "execution_count": 120,
     "metadata": {},
     "output_type": "execute_result"
    }
   ],
   "source": [
    "utils.deconv_output_length(16, 256, 'same', 2)"
   ]
  },
  {
   "cell_type": "code",
   "execution_count": 84,
   "metadata": {},
   "outputs": [],
   "source": [
    "?utils.deconv_output_length"
   ]
  },
  {
   "cell_type": "code",
   "execution_count": 160,
   "metadata": {},
   "outputs": [],
   "source": [
    "def level_up(tensor_in, insert_layer, name_layer, n_filter):\n",
    "    print(\"Shape before level up: \" + str(tensor_in.shape))\n",
    "    x = tf.layers.conv2d_transpose(\n",
    "            tensor_in,\n",
    "            filters=n_filter,\n",
    "            kernel_size=2,\n",
    "            strides=2,\n",
    "            padding = 'same',\n",
    "            name=name_layer + \"_upconv\")\n",
    "    print(\"Shape after level up: \" + str(x.shape))\n",
    "    \n",
    "    x = tf.concat([insert_layer, x], axis=-1, name=name_layer + \"_insert\")\n",
    "    #print(\"Shape after putting in other vector: \" + str(x.shape))\n",
    "    \n",
    "    x = tf.layers.conv2d(\n",
    "        inputs = x,\n",
    "        filters = n_filter,\n",
    "        kernel_size = [3, 3],\n",
    "        padding = \"same\",\n",
    "        activation= tf.nn.relu,\n",
    "        name = name_layer + \"_conv_1\")\n",
    "    #print(\"Shape after first conv in level up: \" + str(x.shape))\n",
    "    \n",
    "    x = tf.layers.conv2d(\n",
    "        inputs = x,\n",
    "        filters = n_filter,\n",
    "        kernel_size = [3, 3],\n",
    "        padding = \"same\",\n",
    "        activation= tf.nn.relu,\n",
    "        name = name_layer + \"_conv_2\")\n",
    "    #print(\"Shape after second conv in level up: \" + str(x.shape))\n",
    "    \n",
    "    return x"
   ]
  },
  {
   "cell_type": "markdown",
   "metadata": {},
   "source": [
    "# Create and train CNN"
   ]
  },
  {
   "cell_type": "code",
   "execution_count": 173,
   "metadata": {},
   "outputs": [],
   "source": [
    "def AutoEncoder_model(features, labels, mode):\n",
    "    \n",
    "    ## Hyper paramters ##\n",
    "    eps_start = 0.04 #learning rate in the beginning\n",
    "    eps_end = eps_start / 100 #final learning rate\n",
    "    tau = 10000 # number of iterations afterwards is the learning rate constant\n",
    "    #####################\n",
    "    \n",
    "    is_training_mode = (mode == tf.estimator.ModeKeys.TRAIN)\n",
    "    \n",
    "    # Input Tensor\n",
    "    input_tensor = features['x']\n",
    "    \n",
    "    # Level 0\n",
    "    level_0 = conv_2(input_tensor, \"level_0\", n_filter = 64)\n",
    "    level_0_pool = tf.layers.max_pooling2d(level_0, (2, 2), strides=(2, 2), name=\"level_0_pooling\")\n",
    "    \n",
    "    # Level 1\n",
    "    level_1 = conv_2(level_0_pool, \"level_1\", n_filter = 128)\n",
    "    level_1_pool = tf.layers.max_pooling2d(level_1, (2, 2), strides=(2, 2), name=\"level_1_pooling\")\n",
    "    \n",
    "    # Level 2\n",
    "    level_2 = conv_2(level_1_pool, \"level_2\", n_filter = 256)\n",
    "    level_2_pool = tf.layers.max_pooling2d(level_2, (2, 2), strides=(2, 2), name=\"level_2_pooling\")\n",
    "    \n",
    "    # Level 3\n",
    "    level_3 = conv_2(level_2_pool, \"level_3\", n_filter = 512)\n",
    "    level_3_pool = tf.layers.max_pooling2d(level_3, (2, 2), strides=(2, 2), name=\"level_3_pooling\")\n",
    "    \n",
    "    # Level 4\n",
    "    level_4 = conv_2(level_3_pool, \"level_4\", n_filter = 1024)\n",
    "    \n",
    "    # Level 3\n",
    "    level_3_up = level_up(level_4,level_3,\"level_3_up\" , n_filter = 512)\n",
    "    \n",
    "    # Level 2\n",
    "    level_2_up = level_up(level_3_up,level_2, \"level_2_up\" , n_filter = 256)\n",
    "    \n",
    "    # Level 1\n",
    "    level_1_up = level_up(level_2_up,level_1, \"level_1_up\" , n_filter = 128)\n",
    "    \n",
    "    # Level 0\n",
    "    level_0_up = level_up(level_1_up,level_0,\"level_0_up\"  , n_filter = 64)\n",
    "    \n",
    "        # final \n",
    "    final_layer = tf.layers.conv2d(\n",
    "        inputs = level_0_up,\n",
    "        filters = 1,\n",
    "        kernel_size = [1, 1],\n",
    "        padding = \"same\",\n",
    "        activation = None,\n",
    "        name = \"final_layer\")\n",
    "    \n",
    "    # Give output in prediction mode\n",
    "    if mode == tf.estimator.ModeKeys.PREDICT:\n",
    "        return tf.estimator.EstimatorSpec(mode = mode, predictions=final_layer)\n",
    "    \n",
    "    # Calculate Loss (for both Train and EVAL modes)\n",
    "    # See that the residual learning is implemented here.\n",
    "    loss = tf.losses.mean_squared_error(labels = labels , predictions = final_layer)\n",
    "    tf.summary.scalar(\"Value_Loss_Function\", loss)\n",
    "        \n",
    "    # Configure the Training OP (for TRAIN mode)\n",
    "    if mode == tf.estimator.ModeKeys.TRAIN:\n",
    "        # calculate current learning rate:\n",
    "        alpha = tf.train.get_global_step() / tau\n",
    "        cur_learning_rate = tf.maximum(tf.constant(0.0, dtype ='float64'),(1-alpha)) * eps_start + tf.minimum(tf.constant(1.0, dtype ='float64') , alpha) * eps_end\n",
    "        tf.summary.scalar(\"Learning_rate\", cur_learning_rate)\n",
    "        optimizer = tf.train.AdamOptimizer(learning_rate = cur_learning_rate)\n",
    "        train_op = optimizer.minimize(loss = loss, global_step=tf.train.get_global_step())\n",
    "        return tf.estimator.EstimatorSpec(mode=mode, loss=loss, train_op=train_op)\n",
    "        \n",
    "        \n",
    "    # Output all learnable variables for tensorboard\n",
    "    for var in tf.trainable_variables():\n",
    "        name = var.name\n",
    "        name = name.replace(':', '_')\n",
    "        tf.summary.histogram(name, var)\n",
    "    merged_summary = tf.summary.merge_all()"
   ]
  },
  {
   "cell_type": "markdown",
   "metadata": {},
   "source": [
    "Load train and test data"
   ]
  },
  {
   "cell_type": "markdown",
   "metadata": {},
   "source": [
    "Create the estimator"
   ]
  },
  {
   "cell_type": "code",
   "execution_count": 174,
   "metadata": {},
   "outputs": [],
   "source": [
    "runconf = tf.estimator.RunConfig(save_summary_steps=5, log_step_count_steps = 1)"
   ]
  },
  {
   "cell_type": "code",
   "execution_count": 175,
   "metadata": {},
   "outputs": [],
   "source": [
    "save_dir = \"/tmp/AutoEncoder/\" + str(datetime.datetime.now())[0:19].replace(\"-\", \"_\").replace(\" \", \"_\").replace(\":\", \"_\").replace(\".\", \"_\")"
   ]
  },
  {
   "cell_type": "code",
   "execution_count": 176,
   "metadata": {},
   "outputs": [
    {
     "name": "stdout",
     "output_type": "stream",
     "text": [
      "INFO:tensorflow:Using config: {'_model_dir': '/tmp/AutoEncoder/2018_12_05_21_55_06', '_tf_random_seed': None, '_save_summary_steps': 5, '_save_checkpoints_steps': None, '_save_checkpoints_secs': 600, '_session_config': allow_soft_placement: true\n",
      "graph_options {\n",
      "  rewrite_options {\n",
      "    meta_optimizer_iterations: ONE\n",
      "  }\n",
      "}\n",
      ", '_keep_checkpoint_max': 5, '_keep_checkpoint_every_n_hours': 10000, '_log_step_count_steps': 1, '_train_distribute': None, '_device_fn': None, '_protocol': None, '_eval_distribute': None, '_experimental_distribute': None, '_service': None, '_cluster_spec': <tensorflow.python.training.server_lib.ClusterSpec object at 0x7f592d0bf978>, '_task_type': 'worker', '_task_id': 0, '_global_id_in_cluster': 0, '_master': '', '_evaluation_master': '', '_is_chief': True, '_num_ps_replicas': 0, '_num_worker_replicas': 1}\n"
     ]
    }
   ],
   "source": [
    "AutoEncoder = tf.estimator.Estimator(config=runconf,\n",
    "    model_fn=AutoEncoder_model, model_dir=save_dir\n",
    "    )"
   ]
  },
  {
   "cell_type": "markdown",
   "metadata": {},
   "source": [
    "# Set up logging for predictions"
   ]
  },
  {
   "cell_type": "markdown",
   "metadata": {},
   "source": [
    "Train the model"
   ]
  },
  {
   "cell_type": "code",
   "execution_count": null,
   "metadata": {},
   "outputs": [],
   "source": [
    "train = tf.estimator.inputs.numpy_input_fn(\n",
    "    x={\"x\": X_train},\n",
    "    y=Y_train,\n",
    "    batch_size=32,\n",
    "    num_epochs=None,\n",
    "    shuffle=True)"
   ]
  },
  {
   "cell_type": "code",
   "execution_count": null,
   "metadata": {},
   "outputs": [
    {
     "name": "stdout",
     "output_type": "stream",
     "text": [
      "INFO:tensorflow:Calling model_fn.\n",
      "Shape Level 0: (32, 256, 256, 64)\n",
      "Shape level_1_pool: (32, 64, 64, 128)\n",
      "Shape level_2_pool: (32, 32, 32, 256)\n",
      "Shape level_3_pool: (32, 16, 16, 512)\n",
      "Shape level_4: (32, 16, 16, 1024)\n",
      "Shape before level up: (32, 16, 16, 1024)\n",
      "Shape after level up: (32, 32, 32, 512)\n",
      "Shape level_3_up: (32, 32, 32, 512)\n",
      "Shape before level up: (32, 32, 32, 512)\n",
      "Shape after level up: (32, 64, 64, 256)\n",
      "Shape level_2_up: (32, 64, 64, 256)\n",
      "Shape before level up: (32, 64, 64, 256)\n",
      "Shape after level up: (32, 128, 128, 128)\n",
      "Shape level_1_up: (32, 128, 128, 128)\n",
      "Shape before level up: (32, 128, 128, 128)\n",
      "Shape after level up: (32, 256, 256, 64)\n",
      "Shape level_0_up: (32, 256, 256, 64)\n",
      "INFO:tensorflow:Done calling model_fn.\n",
      "INFO:tensorflow:Create CheckpointSaverHook.\n",
      "INFO:tensorflow:Graph was finalized.\n",
      "INFO:tensorflow:Running local_init_op.\n",
      "INFO:tensorflow:Done running local_init_op.\n",
      "WARNING:tensorflow:From /usr/local/lib/python3.6/dist-packages/tensorflow/python/training/monitored_session.py:804: start_queue_runners (from tensorflow.python.training.queue_runner_impl) is deprecated and will be removed in a future version.\n",
      "Instructions for updating:\n",
      "To construct input pipelines, use the `tf.data` module.\n",
      "INFO:tensorflow:Saving checkpoints for 0 into /tmp/AutoEncoder/2018_12_05_21_55_06/model.ckpt.\n"
     ]
    }
   ],
   "source": [
    "AutoEncoder.train(\n",
    "    input_fn=train,\n",
    "    steps=3)"
   ]
  },
  {
   "cell_type": "markdown",
   "metadata": {},
   "source": [
    "## Evaluate the model"
   ]
  },
  {
   "cell_type": "markdown",
   "metadata": {},
   "source": [
    "Make predictions"
   ]
  },
  {
   "cell_type": "markdown",
   "metadata": {},
   "source": [
    "This is what we train for (our label)"
   ]
  },
  {
   "cell_type": "code",
   "execution_count": null,
   "metadata": {},
   "outputs": [],
   "source": [
    "plt.imshow(Y_eval[1,:,:,0], cmap='gray' )"
   ]
  },
  {
   "cell_type": "markdown",
   "metadata": {},
   "source": [
    "This is the input of the NN (The noisy image)"
   ]
  },
  {
   "cell_type": "code",
   "execution_count": null,
   "metadata": {},
   "outputs": [],
   "source": [
    "plt.imshow(X_eval[1,:,:,0], cmap='gray' )"
   ]
  },
  {
   "cell_type": "markdown",
   "metadata": {},
   "source": [
    "This is the true image, can be calculated as the difference of X to the label we train on"
   ]
  },
  {
   "cell_type": "code",
   "execution_count": null,
   "metadata": {},
   "outputs": [],
   "source": [
    "plt.imshow(X_eval[1,:,:,0] - Y_eval[1,:,:,0] , cmap='gray' )"
   ]
  },
  {
   "cell_type": "markdown",
   "metadata": {},
   "source": [
    "This is an original image. What does our network predict?"
   ]
  },
  {
   "cell_type": "code",
   "execution_count": null,
   "metadata": {
    "scrolled": true
   },
   "outputs": [],
   "source": [
    "# Evaluate the model and print results\n",
    "predict_input_fn = tf.estimator.inputs.numpy_input_fn(\n",
    "    x={\"x\": X_eval[1:2,:,:,:]},\n",
    "    y=X_eval[1:2,:,:,:],\n",
    "    num_epochs=1,\n",
    "    shuffle=False)\n",
    "predict_results = ImpNet.predict(input_fn=predict_input_fn)\n",
    "predict_results = list(predict_results)"
   ]
  },
  {
   "cell_type": "markdown",
   "metadata": {},
   "source": [
    "The first dictionary is the image shown above. Although I cannot see much in the picture the network is 99.8% sure that it is original!"
   ]
  },
  {
   "cell_type": "code",
   "execution_count": null,
   "metadata": {
    "scrolled": true
   },
   "outputs": [],
   "source": [
    "plt.imshow(predict_results[0][:,:,0], cmap='gray')"
   ]
  },
  {
   "cell_type": "code",
   "execution_count": null,
   "metadata": {},
   "outputs": [],
   "source": [
    "plt.imshow(X_eval[1:2,:,:,:].reshape([256, 256]) - predict_results[0][:,:,0], cmap='gray')"
   ]
  }
 ],
 "metadata": {
  "kernelspec": {
   "display_name": "Python 3",
   "language": "python",
   "name": "python3"
  },
  "language_info": {
   "codemirror_mode": {
    "name": "ipython",
    "version": 3
   },
   "file_extension": ".py",
   "mimetype": "text/x-python",
   "name": "python",
   "nbconvert_exporter": "python",
   "pygments_lexer": "ipython3",
   "version": "3.6.6"
  }
 },
 "nbformat": 4,
 "nbformat_minor": 2
}

{
 "cells": [
  {
   "cell_type": "markdown",
   "metadata": {},
   "source": [
    "# AutoEncoder"
   ]
  },
  {
   "cell_type": "markdown",
   "metadata": {},
   "source": [
    "Building an Autoencoder roughly based on the U-Net."
   ]
  },
  {
   "cell_type": "code",
   "execution_count": 2,
   "metadata": {},
   "outputs": [],
   "source": [
    "import numpy as np\n",
    "import pandas as pd\n",
    "import matplotlib.pyplot as plt\n",
    "import tensorflow as tf\n",
    "import gc\n",
    "import datetime"
   ]
  },
  {
   "cell_type": "markdown",
   "metadata": {},
   "source": [
    "## Data Preprocessing"
   ]
  },
  {
   "cell_type": "markdown",
   "metadata": {},
   "source": [
    "I will start by loading two of the images in. Then I will select from the originals each only one. Aftwards, I will select the 500 images in good and bad quality from the two image and create the classification label for it."
   ]
  },
  {
   "cell_type": "code",
   "execution_count": 3,
   "metadata": {},
   "outputs": [],
   "source": [
    "select = np.random.choice(np.arange(0, 4055), size = 200)"
   ]
  },
  {
   "cell_type": "code",
   "execution_count": 4,
   "metadata": {},
   "outputs": [],
   "source": [
    "X = np.load('/home/cloud/data/X_test_subset.npy')"
   ]
  },
  {
   "cell_type": "code",
   "execution_count": 5,
   "metadata": {},
   "outputs": [
    {
     "data": {
      "text/plain": [
       "(1000, 256, 256, 1)"
      ]
     },
     "execution_count": 5,
     "metadata": {},
     "output_type": "execute_result"
    }
   ],
   "source": [
    "X.shape"
   ]
  },
  {
   "cell_type": "markdown",
   "metadata": {},
   "source": [
    " Normalize data"
   ]
  },
  {
   "cell_type": "code",
   "execution_count": 6,
   "metadata": {},
   "outputs": [],
   "source": [
    "Y = np.load('/home/cloud/data/Y_test_subset.npy')"
   ]
  },
  {
   "cell_type": "code",
   "execution_count": 7,
   "metadata": {},
   "outputs": [
    {
     "data": {
      "text/plain": [
       "(1000, 256, 256, 1)"
      ]
     },
     "execution_count": 7,
     "metadata": {},
     "output_type": "execute_result"
    }
   ],
   "source": [
    "Y.shape"
   ]
  },
  {
   "cell_type": "markdown",
   "metadata": {},
   "source": [
    "clean up the mess"
   ]
  },
  {
   "cell_type": "code",
   "execution_count": 8,
   "metadata": {
    "scrolled": false
   },
   "outputs": [
    {
     "data": {
      "text/plain": [
       "22"
      ]
     },
     "execution_count": 8,
     "metadata": {},
     "output_type": "execute_result"
    }
   ],
   "source": [
    "gc.collect()"
   ]
  },
  {
   "cell_type": "code",
   "execution_count": 9,
   "metadata": {
    "scrolled": true
   },
   "outputs": [
    {
     "data": {
      "text/plain": [
       "(1000, 256, 256, 1)"
      ]
     },
     "execution_count": 9,
     "metadata": {},
     "output_type": "execute_result"
    }
   ],
   "source": [
    "Y.shape"
   ]
  },
  {
   "cell_type": "code",
   "execution_count": 10,
   "metadata": {},
   "outputs": [],
   "source": [
    "def conv_2(tensor_in, name_layer, n_filter):\n",
    "    x = tf.layers.conv2d(\n",
    "        inputs = tensor_in,\n",
    "        filters = n_filter,\n",
    "        kernel_size = [3, 3],\n",
    "        padding = \"same\",\n",
    "        activation= tf.nn.relu,\n",
    "        name = name_layer + \"_conv_1\")\n",
    "    x = tf.layers.conv2d(\n",
    "        inputs = x,\n",
    "        filters = n_filter,\n",
    "        kernel_size = [3, 3],\n",
    "        padding = \"same\",\n",
    "        activation= tf.nn.relu,\n",
    "        name = name_layer + \"_conv_2\")\n",
    "    \n",
    "    return x"
   ]
  },
  {
   "cell_type": "code",
   "execution_count": 11,
   "metadata": {},
   "outputs": [],
   "source": [
    "def level_up(tensor_in, insert_layer, name_layer, n_filter):\n",
    "    #print(\"Shape before level up: \" + str(tensor_in.shape))\n",
    "    x = tf.layers.conv2d_transpose(\n",
    "            tensor_in,\n",
    "            filters=n_filter,\n",
    "            kernel_size=2,\n",
    "            strides=2,\n",
    "            padding = 'same',\n",
    "            name=name_layer + \"_upconv\")\n",
    "    #print(\"Shape after level up: \" + str(x.shape))\n",
    "    \n",
    "    x = tf.concat([insert_layer, x], axis=-1, name=name_layer + \"_insert\")\n",
    "    #print(\"Shape after putting in other vector: \" + str(x.shape))\n",
    "    \n",
    "    x = tf.layers.conv2d(\n",
    "        inputs = x,\n",
    "        filters = n_filter,\n",
    "        kernel_size = [3, 3],\n",
    "        padding = \"same\",\n",
    "        activation= tf.nn.relu,\n",
    "        name = name_layer + \"_conv_1\")\n",
    "    #print(\"Shape after first conv in level up: \" + str(x.shape))\n",
    "    \n",
    "    x = tf.layers.conv2d(\n",
    "        inputs = x,\n",
    "        filters = n_filter,\n",
    "        kernel_size = [3, 3],\n",
    "        padding = \"same\",\n",
    "        activation= tf.nn.relu,\n",
    "        name = name_layer + \"_conv_2\")\n",
    "    #print(\"Shape after second conv in level up: \" + str(x.shape))\n",
    "    \n",
    "    return x"
   ]
  },
  {
   "cell_type": "markdown",
   "metadata": {},
   "source": [
    "# Create and train CNN"
   ]
  },
  {
   "cell_type": "code",
   "execution_count": 120,
   "metadata": {},
   "outputs": [],
   "source": [
    "def AutoEncoder_model(features, labels, mode):\n",
    "    \n",
    "    ## Hyper paramters ##\n",
    "    eps_start = 0.001 #learning rate in the beginning\n",
    "    eps_end = 0.0005 #final learning rate\n",
    "    tau = 40000 # number of iterations afterwards is the learning rate constant\n",
    "    #####################\n",
    "    \n",
    "    is_training_mode = (mode == tf.estimator.ModeKeys.TRAIN)\n",
    "    \n",
    "    # Input Tensor\n",
    "    input_tensor = features['x']\n",
    "    \n",
    "    # Level 0\n",
    "    level_0 = conv_2(input_tensor, \"level_0\", n_filter = 64)\n",
    "    level_0_pool = tf.layers.max_pooling2d(level_0, (2, 2), strides=(2, 2), name=\"level_0_pooling\")\n",
    "    \n",
    "    # Level 1\n",
    "    level_1 = conv_2(level_0_pool, \"level_1\", n_filter = 128)\n",
    "    level_1_pool = tf.layers.max_pooling2d(level_1, (2, 2), strides=(2, 2), name=\"level_1_pooling\")\n",
    "    \n",
    "    # Level 2\n",
    "    level_2 = conv_2(level_1_pool, \"level_2\", n_filter = 256)\n",
    "    level_2_pool = tf.layers.max_pooling2d(level_2, (2, 2), strides=(2, 2), name=\"level_2_pooling\")\n",
    "    \n",
    "    # Level 3\n",
    "    level_3 = conv_2(level_2_pool, \"level_3\", n_filter = 512)\n",
    "    level_3_pool = tf.layers.max_pooling2d(level_3, (2, 2), strides=(2, 2), name=\"level_3_pooling\")\n",
    "    \n",
    "    # Level 4\n",
    "    level_4 = conv_2(level_3_pool, \"level_4\", n_filter = 1024)\n",
    "    \n",
    "    # Level 3\n",
    "    level_3_up = level_up(level_4,level_3,\"level_3_up\" , n_filter = 512)\n",
    "    \n",
    "    # Level 2\n",
    "    level_2_up = level_up(level_3_up,level_2, \"level_2_up\" , n_filter = 256)\n",
    "    \n",
    "    # Level 1\n",
    "    level_1_up = level_up(level_2_up,level_1, \"level_1_up\" , n_filter = 128)\n",
    "    \n",
    "    # Level 0\n",
    "    level_0_up = level_up(level_1_up,level_0,\"level_0_up\"  , n_filter = 64)\n",
    "    \n",
    "        # final \n",
    "    final_layer = tf.layers.conv2d(\n",
    "        inputs = level_0_up,\n",
    "        filters = 1,\n",
    "        kernel_size = [1, 1],\n",
    "        padding = \"same\",\n",
    "        activation = None,\n",
    "        name = \"final_layer\")\n",
    "    \n",
    "    # Give output in prediction mode\n",
    "    if mode == tf.estimator.ModeKeys.PREDICT:\n",
    "        return tf.estimator.EstimatorSpec(mode = mode, predictions=level_4)\n",
    "    \n",
    "    # Output all learnable variables for tensorboard\n",
    "    for var in tf.trainable_variables():\n",
    "        name = var.name\n",
    "        name = name.replace(':', '_')\n",
    "        tf.summary.histogram(name, var)\n",
    "    merged_summary = tf.summary.merge_all()\n",
    "    \n",
    "    # Calculate Loss (for both Train and EVAL modes)\n",
    "    # See that the residual learning is implemented here.\n",
    "    loss = tf.losses.mean_squared_error(labels = labels , predictions = final_layer)\n",
    "    tf.summary.scalar(\"Value_Loss_Function\", loss)\n",
    "        \n",
    "    # Configure the Training OP (for TRAIN mode)\n",
    "    if mode == tf.estimator.ModeKeys.TRAIN:\n",
    "        # calculate current learning rate:\n",
    "        alpha = tf.train.get_global_step() / tau\n",
    "        cur_learning_rate = tf.maximum(tf.constant(0.0, dtype ='float64'),(1-alpha)) * eps_start + tf.minimum(tf.constant(1.0, dtype ='float64') , alpha) * eps_end\n",
    "        tf.summary.scalar(\"Learning_rate\", cur_learning_rate)\n",
    "        optimizer = tf.train.AdamOptimizer(learning_rate = 0.001)\n",
    "        train_op = optimizer.minimize(loss = loss, global_step=tf.train.get_global_step())\n",
    "        return tf.estimator.EstimatorSpec(mode=mode, loss=loss, train_op=train_op)"
   ]
  },
  {
   "cell_type": "markdown",
   "metadata": {},
   "source": [
    "Load train and test data"
   ]
  },
  {
   "cell_type": "markdown",
   "metadata": {},
   "source": [
    "Create the estimator"
   ]
  },
  {
   "cell_type": "code",
   "execution_count": 121,
   "metadata": {},
   "outputs": [],
   "source": [
    "runconf = tf.estimator.RunConfig(save_summary_steps=5, log_step_count_steps = 1)"
   ]
  },
  {
   "cell_type": "code",
   "execution_count": 122,
   "metadata": {
    "scrolled": true
   },
   "outputs": [
    {
     "name": "stdout",
     "output_type": "stream",
     "text": [
      "INFO:tensorflow:Using config: {'_model_dir': '/home/cloud/models/AutoEncoders/AutoEncoder_2018_12_09_17_00_30', '_tf_random_seed': None, '_save_summary_steps': 5, '_save_checkpoints_steps': None, '_save_checkpoints_secs': 600, '_session_config': None, '_keep_checkpoint_max': 5, '_keep_checkpoint_every_n_hours': 10000, '_log_step_count_steps': 1, '_service': None, '_cluster_spec': <tensorflow.python.training.server_lib.ClusterSpec object at 0x7f9d71375518>, '_task_type': 'worker', '_task_id': 0, '_global_id_in_cluster': 0, '_master': '', '_evaluation_master': '', '_is_chief': True, '_num_ps_replicas': 0, '_num_worker_replicas': 1}\n"
     ]
    }
   ],
   "source": [
    "AutoEncoder = tf.estimator.Estimator(config=runconf,\n",
    "    model_fn=AutoEncoder_model, model_dir=\"/home/cloud/models/AutoEncoders/AutoEncoder_2018_12_09_17_00_30\"\n",
    "    )"
   ]
  },
  {
   "cell_type": "markdown",
   "metadata": {},
   "source": [
    "This is an original image. What does our network predict?"
   ]
  },
  {
   "cell_type": "code",
   "execution_count": 123,
   "metadata": {},
   "outputs": [],
   "source": [
    "# Evaluate the model and print results\n",
    "predict_input_fn = tf.estimator.inputs.numpy_input_fn(\n",
    "    x={\"x\": X[1:20,:,:,:]},\n",
    "    y=Y[1:20,:,:,:],\n",
    "    shuffle=False)\n",
    "predict_results = AutoEncoder.predict(input_fn=predict_input_fn)"
   ]
  },
  {
   "cell_type": "code",
   "execution_count": 124,
   "metadata": {},
   "outputs": [
    {
     "name": "stdout",
     "output_type": "stream",
     "text": [
      "INFO:tensorflow:Calling model_fn.\n",
      "INFO:tensorflow:Done calling model_fn.\n",
      "INFO:tensorflow:Graph was finalized.\n",
      "INFO:tensorflow:Restoring parameters from /home/cloud/models/AutoEncoders/AutoEncoder_2018_12_09_17_00_30/model.ckpt-376366\n",
      "INFO:tensorflow:Running local_init_op.\n",
      "INFO:tensorflow:Done running local_init_op.\n"
     ]
    }
   ],
   "source": [
    "out = next(predict_results)"
   ]
  },
  {
   "cell_type": "code",
   "execution_count": 125,
   "metadata": {},
   "outputs": [
    {
     "data": {
      "text/plain": [
       "True"
      ]
     },
     "execution_count": 125,
     "metadata": {},
     "output_type": "execute_result"
    }
   ],
   "source": [
    "(out[:,:,0:19] != 0).any()"
   ]
  },
  {
   "cell_type": "code",
   "execution_count": 119,
   "metadata": {},
   "outputs": [
    {
     "data": {
      "text/plain": [
       "True"
      ]
     },
     "execution_count": 119,
     "metadata": {},
     "output_type": "execute_result"
    }
   ],
   "source": [
    "(out[:,:,32:] != 0).any()"
   ]
  },
  {
   "cell_type": "code",
   "execution_count": 117,
   "metadata": {},
   "outputs": [
    {
     "data": {
      "text/plain": [
       "array([0.00162666, 0.00197793, 0.0015325 , ..., 0.00314401, 0.00294993,\n",
       "       0.00150439], dtype=float32)"
      ]
     },
     "execution_count": 117,
     "metadata": {},
     "output_type": "execute_result"
    }
   ],
   "source": [
    "out[:,:,31][out[:,:,31] != 0]"
   ]
  },
  {
   "cell_type": "code",
   "execution_count": 103,
   "metadata": {},
   "outputs": [
    {
     "data": {
      "text/plain": [
       "array([0.00017084, 0.00123398, 0.00186662, 0.00233918, 0.00275077,\n",
       "       0.00296025, 0.00302418, 0.00309496, 0.00308505, 0.00328232,\n",
       "       0.00342421, 0.0035456 , 0.0037677 , 0.00387099, 0.00383557,\n",
       "       0.00360434, 0.00311404, 0.00288152, 0.00301176, 0.00318332,\n",
       "       0.00315419, 0.00287731, 0.00286275, 0.00305105, 0.00320274,\n",
       "       0.0032087 , 0.00309353, 0.00311329, 0.0032348 , 0.00319443,\n",
       "       0.00311525, 0.00315388, 0.00327643, 0.00331386, 0.00333909,\n",
       "       0.00341042, 0.00358931, 0.00368168, 0.00346511, 0.00327121,\n",
       "       0.00306766, 0.00297369, 0.00300278, 0.00299519, 0.00293321,\n",
       "       0.00286246, 0.00282912, 0.00282206, 0.0026924 , 0.00250455,\n",
       "       0.00216115, 0.00158912, 0.00104287, 0.00047646, 0.00038264],\n",
       "      dtype=float32)"
      ]
     },
     "execution_count": 103,
     "metadata": {},
     "output_type": "execute_result"
    }
   ],
   "source": [
    "out[:,:,18][out[:,:,18] != 0]"
   ]
  },
  {
   "cell_type": "code",
   "execution_count": 132,
   "metadata": {},
   "outputs": [
    {
     "data": {
      "text/plain": [
       "array([[0.01732232, 0.01407778, 0.01352148, ..., 0.01351411, 0.01375854,\n",
       "        0.01511822],\n",
       "       [0.01575232, 0.01407356, 0.01339951, ..., 0.01330353, 0.01371628,\n",
       "        0.01641056],\n",
       "       [0.01563524, 0.01387723, 0.01322702, ..., 0.0131247 , 0.01342773,\n",
       "        0.01635046],\n",
       "       ...,\n",
       "       [0.01565056, 0.01378958, 0.01309088, ..., 0.01302627, 0.01332628,\n",
       "        0.01625462],\n",
       "       [0.01552105, 0.01369704, 0.0131065 , ..., 0.01303187, 0.01333199,\n",
       "        0.01639463],\n",
       "       [0.01496573, 0.01524509, 0.01500552, ..., 0.01495629, 0.01501391,\n",
       "        0.01735209]], dtype=float32)"
      ]
     },
     "execution_count": 132,
     "metadata": {},
     "output_type": "execute_result"
    }
   ],
   "source": [
    "out[:,:,4]"
   ]
  },
  {
   "cell_type": "code",
   "execution_count": 141,
   "metadata": {},
   "outputs": [
    {
     "data": {
      "text/plain": [
       "<matplotlib.image.AxesImage at 0x7f9d6068a208>"
      ]
     },
     "execution_count": 141,
     "metadata": {},
     "output_type": "execute_result"
    },
    {
     "data": {
      "image/png": "[encoded data removed]",
      "text/plain": [
       "<Figure size 432x288 with 1 Axes>"
      ]
     },
     "metadata": {
      "needs_background": "light"
     },
     "output_type": "display_data"
    }
   ],
   "source": [
    "plt.imshow(out[:,:,13], cmap='gray')"
   ]
  },
  {
   "cell_type": "code",
   "execution_count": 67,
   "metadata": {},
   "outputs": [
    {
     "data": {
      "text/plain": [
       "<matplotlib.image.AxesImage at 0x7f760f1c7dd8>"
      ]
     },
     "execution_count": 67,
     "metadata": {},
     "output_type": "execute_result"
    },
    {
     "data": {
      "image/png": "[encoded data removed]",
      "text/plain": [
       "<Figure size 432x288 with 1 Axes>"
      ]
     },
     "metadata": {
      "needs_background": "light"
     },
     "output_type": "display_data"
    }
   ],
   "source": [
    "plt.imshow(Y[650,:,:,0], cmap='gray' )"
   ]
  },
  {
   "cell_type": "code",
   "execution_count": 58,
   "metadata": {
    "scrolled": true
   },
   "outputs": [
    {
     "data": {
      "text/plain": [
       "<matplotlib.image.AxesImage at 0x7f9d7293e198>"
      ]
     },
     "execution_count": 58,
     "metadata": {},
     "output_type": "execute_result"
    },
    {
     "data": {
      "image/png": "[encoded data removed]",
      "text/plain": [
       "<Figure size 432x288 with 1 Axes>"
      ]
     },
     "metadata": {
      "needs_background": "light"
     },
     "output_type": "display_data"
    }
   ],
   "source": [
    "plt.imshow(X[1,:,:,0], cmap='gray' )"
   ]
  },
  {
   "cell_type": "markdown",
   "metadata": {},
   "source": [
    "The first dictionary is the image shown above. Although I cannot see much in the picture the network is 99.8% sure that it is original!"
   ]
  },
  {
   "cell_type": "code",
   "execution_count": 30,
   "metadata": {},
   "outputs": [
    {
     "data": {
      "text/plain": [
       "array([[[0.13539527],\n",
       "        [0.13539527],\n",
       "        [0.13539527],\n",
       "        ...,\n",
       "        [0.13539527],\n",
       "        [0.13539527],\n",
       "        [0.13539527]],\n",
       "\n",
       "       [[0.13539527],\n",
       "        [0.13539527],\n",
       "        [0.13539527],\n",
       "        ...,\n",
       "        [0.13539527],\n",
       "        [0.13539527],\n",
       "        [0.13539527]],\n",
       "\n",
       "       [[0.13539527],\n",
       "        [0.13539527],\n",
       "        [0.13539527],\n",
       "        ...,\n",
       "        [0.13539527],\n",
       "        [0.13539527],\n",
       "        [0.13539527]],\n",
       "\n",
       "       ...,\n",
       "\n",
       "       [[0.13539527],\n",
       "        [0.13539527],\n",
       "        [0.13539527],\n",
       "        ...,\n",
       "        [0.13539527],\n",
       "        [0.13539527],\n",
       "        [0.13539527]],\n",
       "\n",
       "       [[0.13539527],\n",
       "        [0.13539527],\n",
       "        [0.13539527],\n",
       "        ...,\n",
       "        [0.13539527],\n",
       "        [0.13539527],\n",
       "        [0.13539527]],\n",
       "\n",
       "       [[0.13539527],\n",
       "        [0.13539527],\n",
       "        [0.13539527],\n",
       "        ...,\n",
       "        [0.13539527],\n",
       "        [0.13539527],\n",
       "        [0.13539527]]], dtype=float32)"
      ]
     },
     "execution_count": 30,
     "metadata": {},
     "output_type": "execute_result"
    }
   ],
   "source": [
    "predict_results[1]"
   ]
  },
  {
   "cell_type": "code",
   "execution_count": 31,
   "metadata": {},
   "outputs": [
    {
     "data": {
      "text/plain": [
       "<matplotlib.image.AxesImage at 0x7f760db5db00>"
      ]
     },
     "execution_count": 31,
     "metadata": {},
     "output_type": "execute_result"
    },
    {
     "data": {
      "image/png": "[encoded data removed]",
      "text/plain": [
       "<Figure size 432x288 with 1 Axes>"
      ]
     },
     "metadata": {
      "needs_background": "light"
     },
     "output_type": "display_data"
    }
   ],
   "source": [
    "plt.imshow(predict_results[0][:,:,0], cmap='gray')"
   ]
  }
 ],
 "metadata": {
  "kernelspec": {
   "display_name": "Python 3",
   "language": "python",
   "name": "python3"
  },
  "language_info": {
   "codemirror_mode": {
    "name": "ipython",
    "version": 3
   },
   "file_extension": ".py",
   "mimetype": "text/x-python",
   "name": "python",
   "nbconvert_exporter": "python",
   "pygments_lexer": "ipython3",
   "version": "3.6.6"
  }
 },
 "nbformat": 4,
 "nbformat_minor": 2
}
